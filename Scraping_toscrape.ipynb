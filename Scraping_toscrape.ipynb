{
 "cells": [
  {
   "cell_type": "code",
   "execution_count": 1,
   "metadata": {},
   "outputs": [],
   "source": [
    "from splinter import Browser\n",
    "from bs4 import BeautifulSoup as soup"
   ]
  },
  {
   "cell_type": "code",
   "execution_count": 2,
   "metadata": {},
   "outputs": [],
   "source": [
    "# Create an instance of a splinter browser\n",
    "# **executable_path is unpacking the dictionary, headless=false means all of the broswers actions will\n",
    "# be displayed in a chrome window\n",
    "executable_path = {'executable_path': 'chromedriver.exe'}\n",
    "browser = Browser('chrome', **executable_path, headless=False)"
   ]
  },
  {
   "cell_type": "code",
   "execution_count": 3,
   "metadata": {},
   "outputs": [],
   "source": [
    "# visit Quotes to Scrape site\n",
    "url = 'http://quotes.toscrape.com/'\n",
    "browser.visit(url)"
   ]
  },
  {
   "cell_type": "code",
   "execution_count": 4,
   "metadata": {},
   "outputs": [],
   "source": [
    "# Parse the HTML\n",
    "html = browser.html\n",
    "html_soup = soup(html, 'html.parser')\n",
    "# 'html.parser' parses the information"
   ]
  },
  {
   "cell_type": "code",
   "execution_count": 5,
   "metadata": {},
   "outputs": [
    {
     "data": {
      "text/plain": [
       "'Top Ten tags'"
      ]
     },
     "execution_count": 5,
     "metadata": {},
     "output_type": "execute_result"
    }
   ],
   "source": [
    "# Scrape the title\n",
    "title = html_soup.find('h2').text\n",
    "title"
   ]
  },
  {
   "cell_type": "code",
   "execution_count": 6,
   "metadata": {},
   "outputs": [
    {
     "name": "stdout",
     "output_type": "stream",
     "text": [
      "love\n",
      "inspirational\n",
      "life\n",
      "humor\n",
      "books\n",
      "reading\n",
      "friendship\n",
      "friends\n",
      "truth\n",
      "simile\n"
     ]
    }
   ],
   "source": [
    "# Scrape Top 10 Tags\n",
    "tag_box = html_soup.find('div', class_='tags-box')\n",
    "#tag_box\n",
    "tags = tag_box.find_all('a', class_=\"tag\")\n",
    "\n",
    "for tag in tags:\n",
    "    word = tag.text\n",
    "    print(word)"
   ]
  },
  {
   "cell_type": "code",
   "execution_count": 7,
   "metadata": {
    "scrolled": true
   },
   "outputs": [
    {
     "name": "stdout",
     "output_type": "stream",
     "text": [
      "Page:  1 -------------\n",
      "“The world as we have created it is a process of our thinking. It cannot be changed without changing our thinking.”\n",
      "Page:  1 -------------\n",
      "“It is our choices, Harry, that show what we truly are, far more than our abilities.”\n",
      "Page:  1 -------------\n",
      "“There are only two ways to live your life. One is as though nothing is a miracle. The other is as though everything is a miracle.”\n",
      "Page:  1 -------------\n",
      "“The person, be it gentleman or lady, who has not pleasure in a good novel, must be intolerably stupid.”\n",
      "Page:  1 -------------\n",
      "“Imperfection is beauty, madness is genius and it's better to be absolutely ridiculous than absolutely boring.”\n",
      "Page:  1 -------------\n",
      "“Try not to become a man of success. Rather become a man of value.”\n",
      "Page:  1 -------------\n",
      "“It is better to be hated for what you are than to be loved for what you are not.”\n",
      "Page:  1 -------------\n",
      "“I have not failed. I've just found 10,000 ways that won't work.”\n",
      "Page:  1 -------------\n",
      "“A woman is like a tea bag; you never know how strong it is until it's in hot water.”\n",
      "Page:  1 -------------\n",
      "“A day without sunshine is like, you know, night.”\n",
      "Page:  2 -------------\n",
      "“The world as we have created it is a process of our thinking. It cannot be changed without changing our thinking.”\n",
      "Page:  2 -------------\n",
      "“It is our choices, Harry, that show what we truly are, far more than our abilities.”\n",
      "Page:  2 -------------\n",
      "“There are only two ways to live your life. One is as though nothing is a miracle. The other is as though everything is a miracle.”\n",
      "Page:  2 -------------\n",
      "“The person, be it gentleman or lady, who has not pleasure in a good novel, must be intolerably stupid.”\n",
      "Page:  2 -------------\n",
      "“Imperfection is beauty, madness is genius and it's better to be absolutely ridiculous than absolutely boring.”\n",
      "Page:  2 -------------\n",
      "“Try not to become a man of success. Rather become a man of value.”\n",
      "Page:  2 -------------\n",
      "“It is better to be hated for what you are than to be loved for what you are not.”\n",
      "Page:  2 -------------\n",
      "“I have not failed. I've just found 10,000 ways that won't work.”\n",
      "Page:  2 -------------\n",
      "“A woman is like a tea bag; you never know how strong it is until it's in hot water.”\n",
      "Page:  2 -------------\n",
      "“A day without sunshine is like, you know, night.”\n",
      "Page:  3 -------------\n",
      "“The world as we have created it is a process of our thinking. It cannot be changed without changing our thinking.”\n",
      "Page:  3 -------------\n",
      "“It is our choices, Harry, that show what we truly are, far more than our abilities.”\n",
      "Page:  3 -------------\n",
      "“There are only two ways to live your life. One is as though nothing is a miracle. The other is as though everything is a miracle.”\n",
      "Page:  3 -------------\n",
      "“The person, be it gentleman or lady, who has not pleasure in a good novel, must be intolerably stupid.”\n",
      "Page:  3 -------------\n",
      "“Imperfection is beauty, madness is genius and it's better to be absolutely ridiculous than absolutely boring.”\n",
      "Page:  3 -------------\n",
      "“Try not to become a man of success. Rather become a man of value.”\n",
      "Page:  3 -------------\n",
      "“It is better to be hated for what you are than to be loved for what you are not.”\n",
      "Page:  3 -------------\n",
      "“I have not failed. I've just found 10,000 ways that won't work.”\n",
      "Page:  3 -------------\n",
      "“A woman is like a tea bag; you never know how strong it is until it's in hot water.”\n",
      "Page:  3 -------------\n",
      "“A day without sunshine is like, you know, night.”\n",
      "Page:  4 -------------\n",
      "“The world as we have created it is a process of our thinking. It cannot be changed without changing our thinking.”\n",
      "Page:  4 -------------\n",
      "“It is our choices, Harry, that show what we truly are, far more than our abilities.”\n",
      "Page:  4 -------------\n",
      "“There are only two ways to live your life. One is as though nothing is a miracle. The other is as though everything is a miracle.”\n",
      "Page:  4 -------------\n",
      "“The person, be it gentleman or lady, who has not pleasure in a good novel, must be intolerably stupid.”\n",
      "Page:  4 -------------\n",
      "“Imperfection is beauty, madness is genius and it's better to be absolutely ridiculous than absolutely boring.”\n",
      "Page:  4 -------------\n",
      "“Try not to become a man of success. Rather become a man of value.”\n",
      "Page:  4 -------------\n",
      "“It is better to be hated for what you are than to be loved for what you are not.”\n",
      "Page:  4 -------------\n",
      "“I have not failed. I've just found 10,000 ways that won't work.”\n",
      "Page:  4 -------------\n",
      "“A woman is like a tea bag; you never know how strong it is until it's in hot water.”\n",
      "Page:  4 -------------\n",
      "“A day without sunshine is like, you know, night.”\n",
      "Page:  5 -------------\n",
      "“The world as we have created it is a process of our thinking. It cannot be changed without changing our thinking.”\n",
      "Page:  5 -------------\n",
      "“It is our choices, Harry, that show what we truly are, far more than our abilities.”\n",
      "Page:  5 -------------\n",
      "“There are only two ways to live your life. One is as though nothing is a miracle. The other is as though everything is a miracle.”\n",
      "Page:  5 -------------\n",
      "“The person, be it gentleman or lady, who has not pleasure in a good novel, must be intolerably stupid.”\n",
      "Page:  5 -------------\n",
      "“Imperfection is beauty, madness is genius and it's better to be absolutely ridiculous than absolutely boring.”\n",
      "Page:  5 -------------\n",
      "“Try not to become a man of success. Rather become a man of value.”\n",
      "Page:  5 -------------\n",
      "“It is better to be hated for what you are than to be loved for what you are not.”\n",
      "Page:  5 -------------\n",
      "“I have not failed. I've just found 10,000 ways that won't work.”\n",
      "Page:  5 -------------\n",
      "“A woman is like a tea bag; you never know how strong it is until it's in hot water.”\n",
      "Page:  5 -------------\n",
      "“A day without sunshine is like, you know, night.”\n"
     ]
    }
   ],
   "source": [
    "for x in range(1, 6):\n",
    "    html = browser.html\n",
    "    quote_soup = soup(html, 'html.parser')\n",
    "    quotes = quote_soup.find_all('span', class_='text')\n",
    "    for quote in quotes:\n",
    "        print(\"Page: \", x, '-------------')\n",
    "        print(quote.text)\n",
    "    browser.links.find_by_partial_text('Next')"
   ]
  },
  {
   "cell_type": "code",
   "execution_count": 14,
   "metadata": {
    "scrolled": true
   },
   "outputs": [
    {
     "name": "stdout",
     "output_type": "stream",
     "text": [
      "Page:  1 -------------\n",
      "Albert Einstein\n",
      "Page:  1 -------------\n",
      "J.K. Rowling\n",
      "Page:  1 -------------\n",
      "Albert Einstein\n",
      "Page:  1 -------------\n",
      "Jane Austen\n",
      "Page:  1 -------------\n",
      "Marilyn Monroe\n",
      "Page:  1 -------------\n",
      "Albert Einstein\n",
      "Page:  1 -------------\n",
      "André Gide\n",
      "Page:  1 -------------\n",
      "Thomas A. Edison\n",
      "Page:  1 -------------\n",
      "Eleanor Roosevelt\n",
      "Page:  1 -------------\n",
      "Steve Martin\n",
      "Page:  2 -------------\n",
      "Albert Einstein\n",
      "Page:  2 -------------\n",
      "J.K. Rowling\n",
      "Page:  2 -------------\n",
      "Albert Einstein\n",
      "Page:  2 -------------\n",
      "Jane Austen\n",
      "Page:  2 -------------\n",
      "Marilyn Monroe\n",
      "Page:  2 -------------\n",
      "Albert Einstein\n",
      "Page:  2 -------------\n",
      "André Gide\n",
      "Page:  2 -------------\n",
      "Thomas A. Edison\n",
      "Page:  2 -------------\n",
      "Eleanor Roosevelt\n",
      "Page:  2 -------------\n",
      "Steve Martin\n",
      "Page:  3 -------------\n",
      "Albert Einstein\n",
      "Page:  3 -------------\n",
      "J.K. Rowling\n",
      "Page:  3 -------------\n",
      "Albert Einstein\n",
      "Page:  3 -------------\n",
      "Jane Austen\n",
      "Page:  3 -------------\n",
      "Marilyn Monroe\n",
      "Page:  3 -------------\n",
      "Albert Einstein\n",
      "Page:  3 -------------\n",
      "André Gide\n",
      "Page:  3 -------------\n",
      "Thomas A. Edison\n",
      "Page:  3 -------------\n",
      "Eleanor Roosevelt\n",
      "Page:  3 -------------\n",
      "Steve Martin\n",
      "Page:  4 -------------\n",
      "Albert Einstein\n",
      "Page:  4 -------------\n",
      "J.K. Rowling\n",
      "Page:  4 -------------\n",
      "Albert Einstein\n",
      "Page:  4 -------------\n",
      "Jane Austen\n",
      "Page:  4 -------------\n",
      "Marilyn Monroe\n",
      "Page:  4 -------------\n",
      "Albert Einstein\n",
      "Page:  4 -------------\n",
      "André Gide\n",
      "Page:  4 -------------\n",
      "Thomas A. Edison\n",
      "Page:  4 -------------\n",
      "Eleanor Roosevelt\n",
      "Page:  4 -------------\n",
      "Steve Martin\n",
      "Page:  5 -------------\n",
      "Albert Einstein\n",
      "Page:  5 -------------\n",
      "J.K. Rowling\n",
      "Page:  5 -------------\n",
      "Albert Einstein\n",
      "Page:  5 -------------\n",
      "Jane Austen\n",
      "Page:  5 -------------\n",
      "Marilyn Monroe\n",
      "Page:  5 -------------\n",
      "Albert Einstein\n",
      "Page:  5 -------------\n",
      "André Gide\n",
      "Page:  5 -------------\n",
      "Thomas A. Edison\n",
      "Page:  5 -------------\n",
      "Eleanor Roosevelt\n",
      "Page:  5 -------------\n",
      "Steve Martin\n"
     ]
    }
   ],
   "source": [
    "for x in range(1, 6):\n",
    "    html = browser.html\n",
    "    quote_soup = soup(html, 'html.parser')\n",
    "    quotes = quote_soup.find_all('small', class_='author')\n",
    "    for quote in quotes:\n",
    "        print(\"Page: \", x, '-------------')\n",
    "        print(quote.text)\n",
    "    browser.links.find_by_partial_text('Next')"
   ]
  }
 ],
 "metadata": {
  "kernelspec": {
   "display_name": "Python 3",
   "language": "python",
   "name": "python3"
  },
  "language_info": {
   "codemirror_mode": {
    "name": "ipython",
    "version": 3
   },
   "file_extension": ".py",
   "mimetype": "text/x-python",
   "name": "python",
   "nbconvert_exporter": "python",
   "pygments_lexer": "ipython3",
   "version": "3.7.6"
  }
 },
 "nbformat": 4,
 "nbformat_minor": 4
}
